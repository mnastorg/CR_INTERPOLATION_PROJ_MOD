{
 "cells": [
  {
   "cell_type": "markdown",
   "metadata": {},
   "source": [
    "# Application d'une méthode d'interpolation pour l'équation de Duffing"
   ]
  },
  {
   "cell_type": "markdown",
   "metadata": {},
   "source": [
    "Le but de ce document est d'illustrer les méthodes développées lors de ce projet. Nous nous intéressons à faire l'interpolation entre deux espaces de solutions de l'oscillateur de Duffing. \n",
    "\n",
    "L'équation de Duffing est une équation différentielle non-linéaire du second ordre utilisée pour modéliser certains oscillateurs amortis et forcés. L'équation s'écrit\n",
    "$$\n",
    "    \\ddot{x}(t) + \\delta \\dot{x}(t) + \\alpha x(t) + \\beta x^3(t) = \\gamma \\cos(\\omega t)\n",
    "$$\n",
    " \n",
    "Les paramètres donnés dans l'équation caractérisent les différents effets : \n",
    "\n",
    "- $\\delta$ contrôle le taux d'amortissement\n",
    "\n",
    "- $\\alpha$ contrôle la raideur linéaire\n",
    "\n",
    "- $\\beta$ contrôle le taux de non-linéarité dans la force restauratrice\n",
    "\n",
    "- $\\gamma$ est l'amplitude de la force conductrice périodique\n",
    "\n",
    "- $\\omega$ est la fréquence angulaire\n",
    "\n",
    "L'équation de Duffing est un exemple de système dynamique simple pouvant présenter un comportement chaotique.\n",
    "\n",
    "L'intérêt de cet exposé est le suivant. On va fixer les paramètres $\\delta$, $\\beta$ et $\\omega$ pour le reste de l'étude. Puis, on s'intéresse à la résolution de cette équation pour deux paramètres $\\gamma_1$ et $\\gamma_2$ chacun regroupant la solution pour un certains nombres de $\\alpha$ prédéfinis. En particulier, nous allons créer deux matrices $\\Psi$ relative à $\\gamma_1$ et $\\Phi$ relative à $\\gamma_2$ où leurs colonnes seront définies par les solutions de l'équation pour un certains nombres de $\\alpha$. \n",
    "\n",
    "On prendre pour la suite $\\gamma_1 = 1$ et $\\gamma_2 = 3.5$. On approximera la solution pour 51 intervalles de temps. On considère 21 valeurs de $\\alpha$ choisies entre 1 et 3. Ainsi on aura que $\\Phi$ et $\\Psi \\in \\mathcal{M}_{51,21}(R)$.\n",
    "\n",
    "L'étape suivante sera d'orthonormaliser les deux matrices en réduisant leur nombre de vecteurs dans la base. On essaiera de passer de 21 vecteurs à 5 vecteurs dans la base. \n",
    "\n",
    "Finalement, on s'intéressera aux erreurs commises entre la solution exacte pour le paramètre \n",
    "$$\n",
    "\\gamma = \\dfrac{\\gamma_1 + \\gamma_2}{2}\n",
    "$$\n",
    "et sa solution dans la base interpolée, déterminée via la notion de géodésique. \n",
    "\n",
    "On cherche à montrer que l'erreur en utilisant l'interpolation géodésique est inférieure à l'idée usuelle à savoir de faire la moyenne entre la solution pour $\\gamma_1$ et $\\gamma_2$.\n",
    "\n",
    "Cette étude sera faite en utilisant le langage de programmation python."
   ]
  },
  {
   "cell_type": "markdown",
   "metadata": {},
   "source": [
    "On commence par importer les packages nécessaires"
   ]
  },
  {
   "cell_type": "code",
   "execution_count": 1,
   "metadata": {},
   "outputs": [],
   "source": [
    "import numpy as np\n",
    "import matplotlib.pyplot as plt\n",
    "from scipy.integrate import odeint\n",
    "from random import *"
   ]
  },
  {
   "cell_type": "markdown",
   "metadata": {},
   "source": [
    "On fixe ensuite les différents paramètres pour la suite de l'étude"
   ]
  },
  {
   "cell_type": "code",
   "execution_count": 5,
   "metadata": {},
   "outputs": [
    {
     "name": "stdout",
     "output_type": "stream",
     "text": [
      "-------------------------------------------------------------------\n",
      "--------------------- DEBUT DU PROGRAMME --------------------------\n",
      "-------------------------------------------------------------------\n",
      "------------ Conditions initiales ------------------\n",
      "tmax =  50\n",
      "x0 =  0.0\n",
      "xdot0 =  0.0\n",
      "Vecteur des conditions initiales Z =  [0.0, 0.0]\n",
      "----------------------------------------------------\n",
      "-------- Paramètres définis pour le programme ------\n",
      "delta =  0.02\n",
      "beta =  5\n",
      "omega =  0.5\n",
      "----------------------------------------------------\n",
      "alpha =  [1.  1.1 1.2 1.3 1.4 1.5 1.6 1.7 1.8 1.9 2.  2.1 2.2 2.3 2.4 2.5 2.6 2.7\n",
      " 2.8 2.9 3. ]\n",
      "gamma_1 =  1\n",
      "gamma_2 =  1.5\n"
     ]
    }
   ],
   "source": [
    "print(\"-------------------------------------------------------------------\")\n",
    "print(\"--------------------- DEBUT DU PROGRAMME --------------------------\")\n",
    "print(\"-------------------------------------------------------------------\")\n",
    "\n",
    "#------------------------ DESCRIPTION DES PARAMETRES -----------------------\n",
    "\n",
    "#DISCRETISATION TEMPORELLE\n",
    "print(\"------------ Conditions initiales ------------------\")\n",
    "tmax = 50\n",
    "print(\"tmax = \",tmax)\n",
    "t = np.arange(0,tmax+1)\n",
    "\n",
    "#CONDITIONS INITIALES DU SYSTEME\n",
    "x0 = 0.\n",
    "print(\"x0 = \",x0)\n",
    "xdot0 = 0.\n",
    "print(\"xdot0 = \", xdot0)\n",
    "Z = [x0,xdot0]\n",
    "print(\"Vecteur des conditions initiales Z = \", Z)\n",
    "print(\"----------------------------------------------------\")\n",
    "\n",
    "#PARAMETRES FIXES \"UNE BONNE FOIS POUR TOUTE\"\n",
    "print(\"-------- Paramètres définis pour le programme ------\")\n",
    "delta = 0.02\n",
    "print(\"delta = \", delta)\n",
    "beta = 5\n",
    "print(\"beta = \", beta)\n",
    "omega = 0.5\n",
    "print(\"omega = \", omega)\n",
    "print(\"----------------------------------------------------\")\n",
    "\n",
    "#PARAMETRES SUR LESQUELS ON JOUE\n",
    "\n",
    "alpha = np.linspace(1,3,21)\n",
    "print(\"alpha = \", alpha)\n",
    "gamma_1 = 1\n",
    "print(\"gamma_1 = \", gamma_1)\n",
    "gamma_2 = 1.5\n",
    "print(\"gamma_2 = \", gamma_2)"
   ]
  },
  {
   "cell_type": "markdown",
   "metadata": {},
   "source": [
    "Pour la résolution de l'équation on utilise la fonction python \"scipy.integrate.odeint\" qui intègre un sytème d'équation différentielle ordinaire. Pour pouvoir utiliser cette fonction, il faut que l'on transforme l'équation du second ordre en un système d'équation du premier ordre. Puis, en utilisant les conditions initiales qui est pour nous le vecteur Z on peut écrire les fonctions suivantes."
   ]
  },
  {
   "cell_type": "code",
   "execution_count": 1,
   "metadata": {},
   "outputs": [],
   "source": [
    "#--------------------------- FONCTION VECTEURS DERIVES -------------------------\n",
    "def deriv(Z,t,delta,beta,omega,alpha,gamma):\n",
    "    dX = Z[1]\n",
    "    dY = -delta*Z[1] - alpha*Z[0] - beta*(Z[0])**3 + gamma*np.cos(omega*t)\n",
    "    dZ = [dX,dY]\n",
    "    return dZ\n",
    "#-------------------------------------------------------------------------------\n",
    "\n",
    "#----------------------------- SOLUTION DE L'EDO -------------------------------\n",
    "def solu_oscillateur(Z,t,delta,beta,omega,alpha,gamma):\n",
    "    #sol est de taille(N,2) ---> la premiere colonne est la solution\n",
    "    #et la seconde sa derivée.\n",
    "    sol = odeint(deriv, Z, t, args = (delta,beta,omega,alpha,gamma))\n",
    "    return sol\n",
    "#-------------------------------------------------------------------------------"
   ]
  },
  {
   "cell_type": "markdown",
   "metadata": {},
   "source": [
    "On peut regarder la solution de cette équation avec $\\gamma_1$ et $\\alpha = 1$. On affiche le graphique de $x(t)$ en fonction de $\\dot{x}(t)$."
   ]
  },
  {
   "cell_type": "code",
   "execution_count": 9,
   "metadata": {},
   "outputs": [
    {
     "data": {
      "image/png": "[encoded data removed]",
      "text/plain": [
       "<Figure size 504x504 with 1 Axes>"
      ]
     },
     "metadata": {
      "needs_background": "light"
     },
     "output_type": "display_data"
    }
   ],
   "source": [
    "sol = solu_oscillateur(Z,t,delta,beta,omega,1,gamma_1)\n",
    "\n",
    "def affichage(t,sol):\n",
    "\n",
    "    fig = plt.figure(figsize = [7,7])\n",
    "    ax = fig.add_subplot(111)\n",
    "    ax.plot(sol[:,0], sol[:,1], 'b')\n",
    "    plt.xlabel(\"x(t)\")\n",
    "    plt.ylabel(\"$\\dot{x}(t)$\")\n",
    "    plt.title(\"Oscillateur de Duffing\")\n",
    "\n",
    "    plt.show()\n",
    "\n",
    "affichage(t,sol)"
   ]
  },
  {
   "cell_type": "markdown",
   "metadata": {},
   "source": [
    "On crée ensuite les deux matrices $\\Phi$ et $\\Psi$ comme décrite en introduction."
   ]
  },
  {
   "cell_type": "code",
   "execution_count": 10,
   "metadata": {},
   "outputs": [
    {
     "name": "stdout",
     "output_type": "stream",
     "text": [
      "La taille de PSY_INIT est =  (51, 21)\n",
      "La taille de PHI_INIT est =  (51, 21)\n"
     ]
    }
   ],
   "source": [
    "def base_gamma(Z,t,delta,beta,omega,alpha,gamma):\n",
    "    N = np.size(alpha)\n",
    "    BASE = np.zeros((np.size(t),N))\n",
    "    for i in range(N):\n",
    "        SOL = solu_oscillateur(Z,t,delta,beta,omega,alpha[i],gamma)\n",
    "        BASE[:,i] = SOL[:,0]\n",
    "    return BASE\n",
    "\n",
    "#-------------------------- INITIALISATION DES BASES -----------------------\n",
    "#PSY_INIT = BASE POUR GAMMA 1\n",
    "PSY_INIT = base_gamma(Z,t,delta,beta,omega,alpha,gamma_1)\n",
    "#PHI_INIT = BASE POUR GAMMA 2\n",
    "PHI_INIT = base_gamma(Z,t,delta,beta,omega,alpha,gamma_2)\n",
    "print(\"La taille de PSY_INIT est = \", np.shape(PSY_INIT))\n",
    "print(\"La taille de PHI_INIT est = \", np.shape(PHI_INIT))"
   ]
  },
  {
   "cell_type": "markdown",
   "metadata": {},
   "source": [
    "Puis on orthonormalise cette base tout en la réduisant. En particulier la fonction suivante utilise l'algorithme de Gramm-Schmidt avec la condition que si le résidu entre le nouveau vecteur et son projeté dans l'espace composé des vecteurs précédents est inférieur à un certain seuil, alors on ne le prend pas. En fait, on va chercher à avoir 2 matrices avec le MEME nombre de colonnes. Dans l'algorithme créé nous ne considérons pas de \"seuil\" mais plutôt la notion de \"x vecteurs les plus orthonormaux\" dans chaque matrice. "
   ]
  },
  {
   "cell_type": "code",
   "execution_count": 11,
   "metadata": {},
   "outputs": [],
   "source": [
    "def orthonormalisation(MATRIX, nbr_vect):\n",
    "\n",
    "    N = np.shape(MATRIX)[0]\n",
    "    k = np.shape(MATRIX)[1]\n",
    "\n",
    "    ortho = []\n",
    "    norm = []\n",
    "    indice = []\n",
    "    x_gamma = MATRIX[:,0]\n",
    "    e = x_gamma/np.linalg.norm(x_gamma)\n",
    "    ortho.append(e)\n",
    "\n",
    "    for i in range(1,k):\n",
    "        v = MATRIX[:,i]\n",
    "        sum = np.zeros(N)\n",
    "\n",
    "        for i in range(len(ortho)):\n",
    "            sum += proj(v,ortho[i])\n",
    "\n",
    "        u = v - sum\n",
    "        norm.append(np.linalg.norm(u))\n",
    "        e = u/np.linalg.norm(u)\n",
    "        ortho.append(e)\n",
    "\n",
    "    if nbr_vect > len(norm) + 1:\n",
    "        print(\"ERREUR, veuillez saisir un nombre moins important de vecteurs de base à conserver\")\n",
    "        sys.exit()\n",
    "    else:\n",
    "        m = 0\n",
    "        while m < nbr_vect - 1:\n",
    "            indice.append(norm.index(min(norm)))\n",
    "            norm[norm.index(min(norm))] = max(norm)\n",
    "            m = m + 1\n",
    "\n",
    "    ORTHO = np.zeros((N, nbr_vect))\n",
    "    ORTHO[:, 0] = ortho[0]\n",
    "    for i in range(len(indice)):\n",
    "        ORTHO[:, i+1] = ortho[indice[i]+1]\n",
    "\n",
    "    return ORTHO"
   ]
  },
  {
   "cell_type": "code",
   "execution_count": 14,
   "metadata": {},
   "outputs": [
    {
     "name": "stdout",
     "output_type": "stream",
     "text": [
      "-----------MATRICES BASES ORTHONORMEES REDUITES ------\n",
      "Le nombre de vecteurs de chaque base considéré est k =  5\n",
      "La taille de PSY_ORTHO est =  (51, 5)\n",
      "La taille de PHI_ORTHO est =  (51, 5)\n"
     ]
    }
   ],
   "source": [
    "#------------------------ FONCTION DE PROJECTION DE V SUR U --------------------\n",
    "def proj(v,u):\n",
    "\n",
    "    proj = np.dot(v,u)*u\n",
    "\n",
    "    return proj\n",
    "#-------------------------------------------------------------------------------\n",
    "\n",
    "print(\"-----------MATRICES BASES ORTHONORMEES REDUITES ------\")\n",
    "\n",
    "k = 5\n",
    "print(\"Le nombre de vecteurs de chaque base considéré est k = \", k)\n",
    "PSY_ORTHO = orthonormalisation(PSY_INIT,k)\n",
    "PHI_ORTHO = orthonormalisation(PHI_INIT,k)\n",
    "\n",
    "print(\"La taille de PSY_ORTHO est = \", np.shape(PSY_ORTHO))\n",
    "print(\"La taille de PHI_ORTHO est = \", np.shape(PHI_ORTHO))"
   ]
  },
  {
   "cell_type": "markdown",
   "metadata": {},
   "source": [
    "Finalement ci-après se trouve le code pour la méthode de la géodésique développée dans le rapport."
   ]
  },
  {
   "cell_type": "code",
   "execution_count": 15,
   "metadata": {},
   "outputs": [],
   "source": [
    "###########################################################################################################\n",
    "########## FONCTIONS POUR L'INTERPOLATION VIA LES GEODESIQUES #############################################\n",
    "###########################################################################################################\n",
    "\n",
    "def solution_val_lim(PHI, PSY, t):\n",
    "\n",
    "    U, SIGMA, V_T = svd(PHI, PSY)\n",
    "\n",
    "    V = np.transpose(V_T)\n",
    "    N = np.shape(SIGMA)[0]\n",
    "\n",
    "    COS_T_SIGMA = np.zeros((N,N))\n",
    "    SIN_T_SIGMA = np.zeros((N,N))\n",
    "\n",
    "    for i in range(N):\n",
    "        COS_T_SIGMA[i, i] = np.cos(t*SIGMA[i,i])\n",
    "        SIN_T_SIGMA[i, i] = np.sin(t*SIGMA[i,i])\n",
    "\n",
    "    #SOLUTION DE LA FORME : GAMMA(t) = GAMMA(0).V.cos(SIGMA*t) + U.sin(SIGMA*t)\n",
    "    P1 = np.dot(np.dot (PHI,V), COS_T_SIGMA)\n",
    "    P2 = np.dot(U, SIN_T_SIGMA)\n",
    "\n",
    "    GAMMA_t = P1 + P2\n",
    "\n",
    "    return GAMMA_t\n",
    "\n",
    "\n",
    "def svd(PHI, PSY):\n",
    "\n",
    "    PHI_PHI_T = np.dot(PHI, np.transpose(PHI))\n",
    "    N = np.shape(PHI_PHI_T)[0]\n",
    "    I = np.eye(N)\n",
    "    PHI_T_PSY = np.dot(np.transpose(PHI),PSY)\n",
    "    INV_PHI_T_PSY = np.linalg.inv(PHI_T_PSY)\n",
    "\n",
    "    #INITIALISATION DE LA MATRICE SUR LEQUEL ON VA FAIRE LA SVD\n",
    "    POUR_SVD = np.dot( np.dot( I - PHI_PHI_T , PSY ), INV_PHI_T_PSY )\n",
    "\n",
    "    #SVD (ATTENTION : LE SIGMA SORTANT DE np.linalg.svd EST UN VECTEUR (k,))\n",
    "    U, tnSIGMA, V_T = np.linalg.svd(POUR_SVD, full_matrices = False)\n",
    "\n",
    "    SIGMA = np.arctan(tnSIGMA)\n",
    "\n",
    "    #LE VECTEUR SIGMA TRANSFORME EN MATRICE (k,k)\n",
    "    SIGMA = np.diag(SIGMA)\n",
    "\n",
    "    return U, SIGMA, V_T"
   ]
  },
  {
   "cell_type": "markdown",
   "metadata": {},
   "source": [
    "On peut donc créer la matrice d'interpolation au point $0.5$."
   ]
  },
  {
   "cell_type": "code",
   "execution_count": 16,
   "metadata": {},
   "outputs": [],
   "source": [
    "#----------------------- FAIRE INTERPOLATION A 0.5 AVEC GEODESIQUE  ------\n",
    "INTERPOL = solution_val_lim(PSY_ORTHO,PHI_ORTHO,0.5)"
   ]
  },
  {
   "cell_type": "markdown",
   "metadata": {},
   "source": [
    "On va considérer la solution dite \"grossière\" à savoir la moyenne entre les deux solutions pour $\\gamma_1$ et $\\gamma_2$"
   ]
  },
  {
   "cell_type": "code",
   "execution_count": 17,
   "metadata": {},
   "outputs": [],
   "source": [
    "#----------------------- ON REGARDE LA SOLUTION GROSSIERE MOYENNE ----------\n",
    "GROSSIERE = (PHI_INIT + PSY_INIT)/2"
   ]
  },
  {
   "cell_type": "markdown",
   "metadata": {},
   "source": [
    "Et finalement on fait les calculs d'erreurs entre la solution exacte que l'on sait calculer au point $\\dfrac{\\gamma_1 +\\gamma_2}{2}$ et son interpolation dans les bases créées. On fait une moyenne de l'erreur sur tous les $\\alpha$."
   ]
  },
  {
   "cell_type": "code",
   "execution_count": 18,
   "metadata": {},
   "outputs": [],
   "source": [
    "#------------------------- CALCUL ERREUR ENTRE SOL EXACTE ET PROJETEE ----------\n",
    "def erreur_moy_HF(INIT,Z,t,delta,beta,omega,alpha,gamma):\n",
    "\n",
    "    PROJ = np.dot(INIT,np.transpose(INIT))\n",
    "    N = np.size(alpha)\n",
    "    erreur = 0\n",
    "    for i in range(N):\n",
    "        SHF = solu_oscillateur(Z,t,delta,beta,omega,alpha[i],gamma)\n",
    "        SOL = SHF[:,0]\n",
    "        erreur += np.linalg.norm(SOL - np.dot(PROJ,SOL))\n",
    "\n",
    "    return erreur/N"
   ]
  },
  {
   "cell_type": "code",
   "execution_count": 20,
   "metadata": {},
   "outputs": [
    {
     "name": "stdout",
     "output_type": "stream",
     "text": [
      "gamma_mid =  1.25\n",
      "-------------------Les calculs d'erreur --------------\n",
      "L'erreur moyenne sur tous les alphas entre la solution exacte et la solution projetée sur la base réduite PSY est, pour gamma_1 :  0.8856345700688185\n",
      "L'erreur moyenne sur tous les alphas entre la solution exacte et la solution projetée sur la base réduite PHI est, pour gamma_2 :  1.5170437568056816\n",
      "L'erreur moyenne sur tous les alphas entre la solution exacte et la solution projetée sur la base INTERPOLE est, pour gamma_mid :  1.5331877754684795\n",
      "L'erreur moyenne sur tous les alphas entre la solution exacte et la solution projetée sur la base GROSSIERE est, pour gamma_mid :  234.85677808062005\n",
      "------------------------------------------------------\n",
      "-------------------------------------------------------------------\n",
      "--------------------- FIN DU PROGRAMME ----------------------------\n",
      "-------------------------------------------------------------------\n"
     ]
    }
   ],
   "source": [
    "#Paramètre gamma entre gamma1 et gamm2\n",
    "gamma_mid = (gamma_1 + gamma_2)/2\n",
    "print(\"gamma_mid = \", gamma_mid)\n",
    "\n",
    "#---------------------- CALCUL D'ERREUR SUR LA SOLUTION --------------------\n",
    "print(\"-------------------Les calculs d'erreur --------------\")\n",
    "\n",
    "erreur_PSY = erreur_moy_HF(PSY_ORTHO,Z,t,delta,beta,omega,alpha,gamma_1)\n",
    "erreur_PHI = erreur_moy_HF(PHI_ORTHO,Z,t,delta,beta,omega,alpha,gamma_2)\n",
    "\n",
    "print(\"L'erreur moyenne sur tous les alphas entre la solution exacte et la solution projetée sur la base réduite PSY est, pour gamma_1 : \", erreur_PSY)\n",
    "print(\"L'erreur moyenne sur tous les alphas entre la solution exacte et la solution projetée sur la base réduite PHI est, pour gamma_2 : \", erreur_PHI)\n",
    "\n",
    "erreur_INTERPOL = erreur_moy_HF(INTERPOL,Z,t,delta,beta,omega,alpha,gamma_mid)\n",
    "print(\"L'erreur moyenne sur tous les alphas entre la solution exacte et la solution projetée sur la base INTERPOLE est, pour gamma_mid : \", erreur_INTERPOL)\n",
    "\n",
    "erreur_GROSSIERE = erreur_moy_HF(GROSSIERE,Z,t,delta,beta,omega,alpha,gamma_mid)\n",
    "print(\"L'erreur moyenne sur tous les alphas entre la solution exacte et la solution projetée sur la base GROSSIERE est, pour gamma_mid : \", erreur_GROSSIERE)\n",
    "\n",
    "print(\"------------------------------------------------------\")\n",
    "print(\"-------------------------------------------------------------------\")\n",
    "print(\"--------------------- FIN DU PROGRAMME ----------------------------\")\n",
    "print(\"-------------------------------------------------------------------\")"
   ]
  },
  {
   "cell_type": "markdown",
   "metadata": {},
   "source": [
    "Finalement, on se rend compte du véritable intéret des interpolations décrites dans le rapport. En effet, on remarque que l'erreur commise sur la base grossière est énorme (234) et que celle sur la base interpolée par la notion de géodésique est dans l'ordre de grandeur de ce que l'on doit obtenir (autour de 1 selon les autres erreurs que l'on a considéré)."
   ]
  }
 ],
 "metadata": {
  "kernelspec": {
   "display_name": "Python 3",
   "language": "python",
   "name": "python3"
  },
  "language_info": {
   "codemirror_mode": {
    "name": "ipython",
    "version": 3
   },
   "file_extension": ".py",
   "mimetype": "text/x-python",
   "name": "python",
   "nbconvert_exporter": "python",
   "pygments_lexer": "ipython3",
   "version": "3.7.4"
  }
 },
 "nbformat": 4,
 "nbformat_minor": 2
}
